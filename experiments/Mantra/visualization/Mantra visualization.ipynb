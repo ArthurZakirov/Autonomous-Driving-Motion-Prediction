{
 "cells": [
  {
   "cell_type": "code",
   "execution_count": 1,
   "id": "407adc9c",
   "metadata": {},
   "outputs": [
    {
     "ename": "ModuleNotFoundError",
     "evalue": "No module named 'dill'",
     "output_type": "error",
     "traceback": [
      "\u001b[1;31m---------------------------------------------------------------------------\u001b[0m",
      "\u001b[1;31mModuleNotFoundError\u001b[0m                       Traceback (most recent call last)",
      "\u001b[1;32mc:\\Arthur\\Bachelorarbeit\\Bachelorarbeit_SD_Karte\\Repository\\pred_comp\\experiments\\Mantra\\visualization\\Mantra visualization.ipynb Cell 1'\u001b[0m in \u001b[0;36m<cell line: 5>\u001b[1;34m()\u001b[0m\n\u001b[0;32m      <a href='vscode-notebook-cell:/c%3A/Arthur/Bachelorarbeit/Bachelorarbeit_SD_Karte/Repository/pred_comp/experiments/Mantra/visualization/Mantra%20visualization.ipynb#ch0000000?line=2'>3</a>\u001b[0m \u001b[39mimport\u001b[39;00m \u001b[39msys\u001b[39;00m\n\u001b[0;32m      <a href='vscode-notebook-cell:/c%3A/Arthur/Bachelorarbeit/Bachelorarbeit_SD_Karte/Repository/pred_comp/experiments/Mantra/visualization/Mantra%20visualization.ipynb#ch0000000?line=3'>4</a>\u001b[0m \u001b[39mfrom\u001b[39;00m \u001b[39mtqdm\u001b[39;00m\u001b[39m.\u001b[39;00m\u001b[39mnotebook\u001b[39;00m \u001b[39mimport\u001b[39;00m tqdm\n\u001b[1;32m----> <a href='vscode-notebook-cell:/c%3A/Arthur/Bachelorarbeit/Bachelorarbeit_SD_Karte/Repository/pred_comp/experiments/Mantra/visualization/Mantra%20visualization.ipynb#ch0000000?line=4'>5</a>\u001b[0m \u001b[39mimport\u001b[39;00m \u001b[39mdill\u001b[39;00m\n\u001b[0;32m      <a href='vscode-notebook-cell:/c%3A/Arthur/Bachelorarbeit/Bachelorarbeit_SD_Karte/Repository/pred_comp/experiments/Mantra/visualization/Mantra%20visualization.ipynb#ch0000000?line=5'>6</a>\u001b[0m \u001b[39mimport\u001b[39;00m \u001b[39mmatplotlib\u001b[39;00m\u001b[39m.\u001b[39;00m\u001b[39mpyplot\u001b[39;00m \u001b[39mas\u001b[39;00m \u001b[39mplt\u001b[39;00m\n\u001b[0;32m      <a href='vscode-notebook-cell:/c%3A/Arthur/Bachelorarbeit/Bachelorarbeit_SD_Karte/Repository/pred_comp/experiments/Mantra/visualization/Mantra%20visualization.ipynb#ch0000000?line=6'>7</a>\u001b[0m \u001b[39mimport\u001b[39;00m \u001b[39mpandas\u001b[39;00m \u001b[39mas\u001b[39;00m \u001b[39mpd\u001b[39;00m\n",
      "\u001b[1;31mModuleNotFoundError\u001b[0m: No module named 'dill'"
     ]
    }
   ],
   "source": [
    "import json\n",
    "import os\n",
    "import sys\n",
    "from tqdm.notebook import tqdm\n",
    "import dill\n",
    "import matplotlib.pyplot as plt\n",
    "import pandas as pd\n",
    "import numpy as np\n",
    "import torch\n",
    "from torch.utils.data import DataLoader, ConcatDataset\n",
    "from torch.autograd import Variable\n",
    "import cv2\n",
    "\n",
    "sys.path.append('../train/trainer')\n",
    "sys.path.append('../evaluation')\n",
    "sys.path.append('../experiment_utils')\n",
    "\n",
    "from experiment_utils import load_data_from_env, load_model\n",
    "from visualization_utils import *"
   ]
  },
  {
   "cell_type": "code",
   "execution_count": 2,
   "id": "ff3e6708",
   "metadata": {},
   "outputs": [
    {
     "name": "stdout",
     "output_type": "stream",
     "text": [
      "\n",
      "\n",
      "model\n",
      "-----\n",
      "Gebe den Pfad des Modells an\n",
      "\n",
      "\n",
      "data_dir\n",
      "------------\n",
      "Gebe den Pfad des Datensatzes an\n"
     ]
    }
   ],
   "source": [
    "# RUN\n",
    "class Parser():\n",
    "    def __init__(self):\n",
    "        pass\n",
    "args = Parser()\n",
    "args.models = []\n",
    "args.node_type = 'VEHICLE'\n",
    "args.ph_list = [12]\n",
    "args.k = [5]\n",
    "args.max_hl = 4\n",
    "args.override_attention_radius = []\n",
    "args.scene_freq_mult_train = False\n",
    "args.min_scene_interaction_density = -1\n",
    "\n",
    "print(\"\\n\\nmodel\")\n",
    "print(\"-----\")\n",
    "print(\"Gebe den Pfad des Modells an\")\n",
    "\n",
    "print(\"\\n\\ndata_dir\")\n",
    "print(\"------------\")\n",
    "print(\"Gebe den Pfad des Datensatzes an\")"
   ]
  },
  {
   "cell_type": "code",
   "execution_count": 89,
   "id": "ee47d006",
   "metadata": {},
   "outputs": [],
   "source": [
    "# INPUT\n",
    "model = \"MANTRA/nuScenes_Boston\"\n",
    "data_dir = \"openDD\""
   ]
  },
  {
   "cell_type": "code",
   "execution_count": 90,
   "id": "65bd9126",
   "metadata": {},
   "outputs": [
    {
     "name": "stdout",
     "output_type": "stream",
     "text": [
      "\n",
      "Loading from ../../../experiments/Trajectron/models/robot/nuScenes_Boston/model_registrar-70.pt\n",
      "Loaded!\n",
      "\n"
     ]
    },
    {
     "name": "stderr",
     "output_type": "stream",
     "text": [
      " 31%|███▏      | 5/16 [00:00<00:00, 49.61it/s]"
     ]
    },
    {
     "name": "stdout",
     "output_type": "stream",
     "text": [
      "\n",
      "\n",
      "\n",
      "Loaded data from ../../../datasets/processed/Trajectron_format/openDD/openDD_test_middle.pkl\n"
     ]
    },
    {
     "name": "stderr",
     "output_type": "stream",
     "text": [
      "100%|██████████| 16/16 [00:00<00:00, 48.59it/s]\n"
     ]
    },
    {
     "name": "stdout",
     "output_type": "stream",
     "text": [
      "\n",
      "\n",
      "\n",
      "\n",
      "scene_id\n",
      "--------\n",
      "Wähle eine 'scene_id' aus:\n",
      "['0', '1', '2', '3', '0', '1', '2', '3', '4', '5', '6', '7', '8', '9', '10', '11']\n"
     ]
    }
   ],
   "source": [
    "# RUN\n",
    "env, _ = present_env(args, data_dir, model=\"../../../experiments/Trajectron/models/robot/nuScenes_Boston\");"
   ]
  },
  {
   "cell_type": "code",
   "execution_count": 91,
   "id": "aff1ea8c",
   "metadata": {},
   "outputs": [],
   "source": [
    "# INPUT\n",
    "args.scene_name = '0'"
   ]
  },
  {
   "cell_type": "code",
   "execution_count": 92,
   "id": "77396607",
   "metadata": {},
   "outputs": [
    {
     "name": "stdout",
     "output_type": "stream",
     "text": [
      "\n",
      "\n",
      "\n",
      "\n",
      "Der Name der Szene lautet: 0\n",
      "\n",
      "\n",
      "\n",
      "\n",
      "node_id\n",
      "----------\n",
      "In der Szene gibt es 12 Fahrzeuge.\n",
      "\n",
      "['0', '2', '1', '3', '5', '6', '7', '8', '4', '9', '10', '11']\n",
      "\n",
      "Wähle die node_id des zu visualisierenden Fahrzeugs\n"
     ]
    }
   ],
   "source": [
    "# RUN\n",
    "scene= present_scene(env, scene_id=args.scene_name)"
   ]
  },
  {
   "cell_type": "code",
   "execution_count": 93,
   "id": "3eb7bb37",
   "metadata": {},
   "outputs": [],
   "source": [
    "# INPUT\n",
    "args.node_id = '0'"
   ]
  },
  {
   "cell_type": "code",
   "execution_count": 94,
   "id": "9a9305a1",
   "metadata": {},
   "outputs": [
    {
     "name": "stdout",
     "output_type": "stream",
     "text": [
      "\n",
      "\n",
      "\n",
      "\n",
      "timestep\n",
      "--------------\n",
      "node VEHICLE/0 erscheint zwischen den Zeitschritten 4-10.\n",
      "Gebe den zu visualisierenden Zeitschritt ein.\n"
     ]
    }
   ],
   "source": [
    "# RUN\n",
    "node = present_node(scene, node_id=args.node_id)"
   ]
  },
  {
   "cell_type": "code",
   "execution_count": 97,
   "id": "3dcf7e56",
   "metadata": {},
   "outputs": [],
   "source": [
    "# INPUT\n",
    "timestep = 5"
   ]
  },
  {
   "cell_type": "code",
   "execution_count": 104,
   "id": "15b72a7a",
   "metadata": {},
   "outputs": [
    {
     "name": "stderr",
     "output_type": "stream",
     "text": [
      "environments:   0%|          | 0/3 [00:00<?, ?it/s]\n",
      "scenes:   0%|          | 0/16 [00:00<?, ?it/s]\u001b[A\n",
      "\n",
      "process node:   0%|          | 0/13 [00:00<?, ?it/s]\u001b[A\u001b[A\n",
      "\n",
      "                                                    \u001b[A\u001b[A\n",
      "\n"
     ]
    },
    {
     "name": "stdout",
     "output_type": "stream",
     "text": [
      "Loaded model from ../models/training_IRM/MANTRA/nuScenes_Boston with not updated memory.\n",
      "\n",
      "\n",
      "preprocess eval data: openDD\n"
     ]
    },
    {
     "name": "stderr",
     "output_type": "stream",
     "text": [
      "process node:   0%|          | 0/31 [00:00<?, ?it/s]\u001b[A\u001b[A\n",
      "\n",
      "                                                    \u001b[A\u001b[A\n",
      "environments: 100%|██████████| 3/3 [00:00<00:00, 12.11it/s]\n"
     ]
    },
    {
     "name": "stdout",
     "output_type": "stream",
     "text": [
      "eval dataset size, before shorten: 7\n",
      "eval dataset size, after shorten: 7\n",
      "\n",
      "\n",
      "\n",
      "\n"
     ]
    },
    {
     "data": {
      "image/png": "[encoded data removed]",
      "text/plain": [
       "<Figure size 1440x1440 with 1 Axes>"
      ]
     },
     "metadata": {
      "needs_background": "light"
     },
     "output_type": "display_data"
    }
   ],
   "source": [
    "# RUN\n",
    "args.past_len = 4\n",
    "args.future_len = 12\n",
    "args.dt=0.5\n",
    "args.dim_clip=170\n",
    "args.batch_size = 32\n",
    "\n",
    "\n",
    "args.device = 'cpu'\n",
    "args.preds = 10\n",
    "args.speed = \"_\"\n",
    "args.use_robot_trajectories = False\n",
    "args.num_eval_samples = None\n",
    "args.preprocess_workers = 0\n",
    "args.shuffle_loader = False\n",
    "\n",
    "mem_n2n = load_model(\"training_IRM\", model)\n",
    "dataset, dataloader = load_data_from_env(\n",
    "    args,\n",
    "    data_dir=data_dir,\n",
    "    train=False)\n",
    "ph = 4\n",
    "idx = timestep - (node.first_timestep + args.past_len)\n",
    "sample = sample_np2torch(dataset[idx])\n",
    "mem_n2n = plot_sample(mem_n2n, args, sample, mode='IRM', k_max=10)"
   ]
  }
 ],
 "metadata": {
  "interpreter": {
   "hash": "33048c8138bb533ac200817d706f60445c911eeb15adf8cb34f1d04d82d65c85"
  },
  "kernelspec": {
   "display_name": "Python 3.9.7 ('DL_env')",
   "language": "python",
   "name": "python3"
  },
  "language_info": {
   "codemirror_mode": {
    "name": "ipython",
    "version": 3
   },
   "file_extension": ".py",
   "mimetype": "text/x-python",
   "name": "python",
   "nbconvert_exporter": "python",
   "pygments_lexer": "ipython3",
   "version": "3.9.7"
  }
 },
 "nbformat": 4,
 "nbformat_minor": 5
}
