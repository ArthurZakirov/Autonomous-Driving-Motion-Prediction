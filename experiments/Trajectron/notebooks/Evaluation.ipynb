{
 "cells": [
  {
   "cell_type": "code",
   "execution_count": 1,
   "id": "330bdb6d",
   "metadata": {},
   "outputs": [],
   "source": [
    "import sys\n",
    "import os\n",
    "import json\n",
    "import pandas as pd\n",
    "import numpy as np\n",
    "import glob\n",
    "import matplotlib.pyplot as plt\n",
    "import matplotlib.ticker as ticker\n",
    "import math\n",
    "import seaborn as sns\n",
    "\n",
    "from notebook_utils import *\n",
    "sys.path.append(\"../experiment_utils\")\n",
    "sys.path.append(\"../data_analysis\")\n",
    "from experiment_utils import load_domain_env\n",
    "from scene_analysis import env_stats"
   ]
  },
  {
   "cell_type": "markdown",
   "id": "f9a1e90c",
   "metadata": {},
   "source": [
    "# Benutzungserklärung"
   ]
  },
  {
   "cell_type": "markdown",
   "id": "a46ff1a3",
   "metadata": {},
   "source": [
    "# 4.1 Mess-Idiosynchrasien"
   ]
  },
  {
   "cell_type": "markdown",
   "id": "6e07bf7e",
   "metadata": {},
   "source": [
    "### Straßenarten und Länder"
   ]
  },
  {
   "cell_type": "code",
   "execution_count": 2,
   "id": "97533cf4",
   "metadata": {},
   "outputs": [],
   "source": [
    "path_Trajectron = '../results/Land_und_Strassenart'\n",
    "path_MANTRA = '../../Mantra/results/Land_und_Strassenart'"
   ]
  },
  {
   "cell_type": "code",
   "execution_count": 3,
   "id": "1e4bccc1",
   "metadata": {},
   "outputs": [
    {
     "data": {
      "text/html": [
       "<div>\n",
       "<style scoped>\n",
       "    .dataframe tbody tr th:only-of-type {\n",
       "        vertical-align: middle;\n",
       "    }\n",
       "\n",
       "    .dataframe tbody tr th {\n",
       "        vertical-align: top;\n",
       "    }\n",
       "\n",
       "    .dataframe thead tr th {\n",
       "        text-align: left;\n",
       "    }\n",
       "\n",
       "    .dataframe thead tr:last-of-type th {\n",
       "        text-align: right;\n",
       "    }\n",
       "</style>\n",
       "<table border=\"1\" class=\"dataframe\">\n",
       "  <thead>\n",
       "    <tr>\n",
       "      <th></th>\n",
       "      <th>Metrik</th>\n",
       "      <th colspan=\"5\" halign=\"left\">minADE_5_[m]</th>\n",
       "      <th colspan=\"4\" halign=\"left\">SDRGE [%]</th>\n",
       "    </tr>\n",
       "    <tr>\n",
       "      <th></th>\n",
       "      <th>Änderung</th>\n",
       "      <th>keine</th>\n",
       "      <th>Land</th>\n",
       "      <th colspan=\"3\" halign=\"left\">Straßenart</th>\n",
       "      <th>Land</th>\n",
       "      <th colspan=\"3\" halign=\"left\">Straßenart</th>\n",
       "    </tr>\n",
       "    <tr>\n",
       "      <th></th>\n",
       "      <th>Details</th>\n",
       "      <th>in distribution</th>\n",
       "      <th>USA &lt;-&gt; SGP</th>\n",
       "      <th>innerhalb Stadtverkehr</th>\n",
       "      <th>zu Kreisverkehr</th>\n",
       "      <th>zu Schnellstraße</th>\n",
       "      <th>USA &lt;-&gt; SGP</th>\n",
       "      <th>innerhalb Stadtverkehr</th>\n",
       "      <th>zu Kreisverkehr</th>\n",
       "      <th>zu Schnellstraße</th>\n",
       "    </tr>\n",
       "    <tr>\n",
       "      <th>Model</th>\n",
       "      <th>Training</th>\n",
       "      <th></th>\n",
       "      <th></th>\n",
       "      <th></th>\n",
       "      <th></th>\n",
       "      <th></th>\n",
       "      <th></th>\n",
       "      <th></th>\n",
       "      <th></th>\n",
       "      <th></th>\n",
       "    </tr>\n",
       "  </thead>\n",
       "  <tbody>\n",
       "    <tr>\n",
       "      <th rowspan=\"4\" valign=\"top\">Trajectron++</th>\n",
       "      <th>nuScenes_Queenstown</th>\n",
       "      <td>1.28</td>\n",
       "      <td>1.43</td>\n",
       "      <td>1.30</td>\n",
       "      <td>5.80</td>\n",
       "      <td>4.01</td>\n",
       "      <td>10.49</td>\n",
       "      <td>1.54</td>\n",
       "      <td>77.93</td>\n",
       "      <td>68.08</td>\n",
       "    </tr>\n",
       "    <tr>\n",
       "      <th>nuScenes_Onenorth</th>\n",
       "      <td>1.32</td>\n",
       "      <td>0.83</td>\n",
       "      <td>1.25</td>\n",
       "      <td>5.51</td>\n",
       "      <td>2.95</td>\n",
       "      <td>-59.04</td>\n",
       "      <td>-5.60</td>\n",
       "      <td>76.04</td>\n",
       "      <td>55.25</td>\n",
       "    </tr>\n",
       "    <tr>\n",
       "      <th>nuScenes_Boston</th>\n",
       "      <td>1.28</td>\n",
       "      <td>1.42</td>\n",
       "      <td>1.56</td>\n",
       "      <td>5.50</td>\n",
       "      <td>2.78</td>\n",
       "      <td>9.86</td>\n",
       "      <td>17.95</td>\n",
       "      <td>76.73</td>\n",
       "      <td>53.96</td>\n",
       "    </tr>\n",
       "    <tr>\n",
       "      <th>lyft_level_5</th>\n",
       "      <td>1.21</td>\n",
       "      <td>2.10</td>\n",
       "      <td>1.99</td>\n",
       "      <td>6.86</td>\n",
       "      <td>3.48</td>\n",
       "      <td>42.38</td>\n",
       "      <td>39.20</td>\n",
       "      <td>82.36</td>\n",
       "      <td>65.23</td>\n",
       "    </tr>\n",
       "    <tr>\n",
       "      <th rowspan=\"4\" valign=\"top\">MANTRA</th>\n",
       "      <th>nuScenes_Queenstown</th>\n",
       "      <td>1.20</td>\n",
       "      <td>0.87</td>\n",
       "      <td>1.34</td>\n",
       "      <td>4.20</td>\n",
       "      <td>2.38</td>\n",
       "      <td>-37.93</td>\n",
       "      <td>10.45</td>\n",
       "      <td>71.43</td>\n",
       "      <td>49.58</td>\n",
       "    </tr>\n",
       "    <tr>\n",
       "      <th>nuScenes_Onenorth</th>\n",
       "      <td>1.19</td>\n",
       "      <td>1.18</td>\n",
       "      <td>1.22</td>\n",
       "      <td>4.22</td>\n",
       "      <td>4.86</td>\n",
       "      <td>-0.85</td>\n",
       "      <td>2.46</td>\n",
       "      <td>71.80</td>\n",
       "      <td>75.51</td>\n",
       "    </tr>\n",
       "    <tr>\n",
       "      <th>nuScenes_Boston</th>\n",
       "      <td>1.08</td>\n",
       "      <td>1.24</td>\n",
       "      <td>0.80</td>\n",
       "      <td>4.20</td>\n",
       "      <td>3.77</td>\n",
       "      <td>12.90</td>\n",
       "      <td>-35.00</td>\n",
       "      <td>74.29</td>\n",
       "      <td>71.35</td>\n",
       "    </tr>\n",
       "    <tr>\n",
       "      <th>lyft_level_5</th>\n",
       "      <td>1.17</td>\n",
       "      <td>1.50</td>\n",
       "      <td>1.57</td>\n",
       "      <td>4.55</td>\n",
       "      <td>2.48</td>\n",
       "      <td>22.00</td>\n",
       "      <td>25.48</td>\n",
       "      <td>74.29</td>\n",
       "      <td>52.82</td>\n",
       "    </tr>\n",
       "  </tbody>\n",
       "</table>\n",
       "</div>"
      ],
      "text/plain": [
       "Metrik                              minADE_5_[m]              \\\n",
       "Änderung                                   keine        Land   \n",
       "Details                          in distribution USA <-> SGP   \n",
       "Model        Training                                          \n",
       "Trajectron++ nuScenes_Queenstown            1.28        1.43   \n",
       "             nuScenes_Onenorth              1.32        0.83   \n",
       "             nuScenes_Boston                1.28        1.42   \n",
       "             lyft_level_5                   1.21        2.10   \n",
       "MANTRA       nuScenes_Queenstown            1.20        0.87   \n",
       "             nuScenes_Onenorth              1.19        1.18   \n",
       "             nuScenes_Boston                1.08        1.24   \n",
       "             lyft_level_5                   1.17        1.50   \n",
       "\n",
       "Metrik                                                                   \\\n",
       "Änderung                                     Straßenart                   \n",
       "Details                          innerhalb Stadtverkehr zu Kreisverkehr   \n",
       "Model        Training                                                     \n",
       "Trajectron++ nuScenes_Queenstown                   1.30            5.80   \n",
       "             nuScenes_Onenorth                     1.25            5.51   \n",
       "             nuScenes_Boston                       1.56            5.50   \n",
       "             lyft_level_5                          1.99            6.86   \n",
       "MANTRA       nuScenes_Queenstown                   1.34            4.20   \n",
       "             nuScenes_Onenorth                     1.22            4.22   \n",
       "             nuScenes_Boston                       0.80            4.20   \n",
       "             lyft_level_5                          1.57            4.55   \n",
       "\n",
       "Metrik                                              SDRGE [%]  \\\n",
       "Änderung                                                 Land   \n",
       "Details                          zu Schnellstraße USA <-> SGP   \n",
       "Model        Training                                           \n",
       "Trajectron++ nuScenes_Queenstown             4.01       10.49   \n",
       "             nuScenes_Onenorth               2.95      -59.04   \n",
       "             nuScenes_Boston                 2.78        9.86   \n",
       "             lyft_level_5                    3.48       42.38   \n",
       "MANTRA       nuScenes_Queenstown             2.38      -37.93   \n",
       "             nuScenes_Onenorth               4.86       -0.85   \n",
       "             nuScenes_Boston                 3.77       12.90   \n",
       "             lyft_level_5                    2.48       22.00   \n",
       "\n",
       "Metrik                                                                   \\\n",
       "Änderung                                     Straßenart                   \n",
       "Details                          innerhalb Stadtverkehr zu Kreisverkehr   \n",
       "Model        Training                                                     \n",
       "Trajectron++ nuScenes_Queenstown                   1.54           77.93   \n",
       "             nuScenes_Onenorth                    -5.60           76.04   \n",
       "             nuScenes_Boston                      17.95           76.73   \n",
       "             lyft_level_5                         39.20           82.36   \n",
       "MANTRA       nuScenes_Queenstown                  10.45           71.43   \n",
       "             nuScenes_Onenorth                     2.46           71.80   \n",
       "             nuScenes_Boston                     -35.00           74.29   \n",
       "             lyft_level_5                         25.48           74.29   \n",
       "\n",
       "Metrik                                             \n",
       "Änderung                                           \n",
       "Details                          zu Schnellstraße  \n",
       "Model        Training                              \n",
       "Trajectron++ nuScenes_Queenstown            68.08  \n",
       "             nuScenes_Onenorth              55.25  \n",
       "             nuScenes_Boston                53.96  \n",
       "             lyft_level_5                   65.23  \n",
       "MANTRA       nuScenes_Queenstown            49.58  \n",
       "             nuScenes_Onenorth              75.51  \n",
       "             nuScenes_Boston                71.35  \n",
       "             lyft_level_5                   52.82  "
      ]
     },
     "execution_count": 3,
     "metadata": {},
     "output_type": "execute_result"
    }
   ],
   "source": [
    "results_Trajectron = load_results_dict(path_Trajectron)\n",
    "results_MANTRA = load_results_dict(path_MANTRA)\n",
    "\n",
    "df_Trajectron = country_or_road_class_dict2df(results_Trajectron)\n",
    "df_MANTRA = country_or_road_class_dict2df(results_MANTRA)\n",
    "\n",
    "df = pd.concat([df_Trajectron, df_MANTRA], axis=0)\n",
    "df.index = pd.MultiIndex.from_product([['Trajectron++', 'MANTRA'], df_MANTRA.index], names=['Model', 'Training'])\n",
    "df"
   ]
  },
  {
   "cell_type": "code",
   "execution_count": 4,
   "id": "bfdc2a42",
   "metadata": {},
   "outputs": [],
   "source": [
    "# CREATE EXCEL \n",
    "\n",
    "# metric = \"SDRGE [%]\"\n",
    "# mean=df[metric].mean(axis=0)\n",
    "# std=df[metric].std(axis=0)\n",
    "# df_excel = pd.concat([mean, std], axis=1)\n",
    "# df_excel.columns = ['mean', 'std']\n",
    "# rename_df(df_excel).to_excel('../excel/Strassenarten_und_Laender.xlsx')\n",
    "# rename_df(df[\"minADE_5_[m]\"]).to_excel('../excel/Strassenarten_und_Laender_minADE.xlsx')"
   ]
  },
  {
   "cell_type": "code",
   "execution_count": 5,
   "id": "8a5f45b8",
   "metadata": {},
   "outputs": [],
   "source": [
    "figsize = (15, 10)\n",
    "fontsize = 15"
   ]
  },
  {
   "cell_type": "code",
   "execution_count": 6,
   "id": "6fd16c09",
   "metadata": {},
   "outputs": [
    {
     "data": {
      "image/png": "[encoded data removed]",
      "text/plain": [
       "<Figure size 1080x720 with 2 Axes>"
      ]
     },
     "metadata": {
      "needs_background": "light"
     },
     "output_type": "display_data"
    }
   ],
   "source": [
    "metrics = df.columns.get_level_values('Metrik').unique()\n",
    "fig, ax = plt.subplots(len(metrics), figsize=figsize)\n",
    "for i, metric in enumerate(metrics):\n",
    "    x=df[metric].columns.get_level_values('Details').unique()\n",
    "    height=df[metric].mean(axis=0)\n",
    "    yerr=df[metric].std(axis=0)\n",
    "    ax[i].bar(x=x, height=height, yerr=yerr)\n",
    "    ax[i].set_ylabel(metric, fontsize=fontsize)\n",
    "    ax[i].tick_params(axis='both', labelsize=fontsize)\n",
    "plt.tight_layout()"
   ]
  },
  {
   "cell_type": "markdown",
   "id": "efe3c6ff",
   "metadata": {},
   "source": [
    "### Geschwindigkeitsbereiche"
   ]
  },
  {
   "cell_type": "code",
   "execution_count": 7,
   "id": "c7983a94",
   "metadata": {},
   "outputs": [],
   "source": [
    "path_Trajectron = '../results/Geschwindigkeitsbereich'\n",
    "path_MANTRA = '../../Mantra/results/Geschwindigkeitsbereich'"
   ]
  },
  {
   "cell_type": "code",
   "execution_count": 8,
   "id": "15a5f507",
   "metadata": {},
   "outputs": [
    {
     "data": {
      "text/html": [
       "<div>\n",
       "<style scoped>\n",
       "    .dataframe tbody tr th:only-of-type {\n",
       "        vertical-align: middle;\n",
       "    }\n",
       "\n",
       "    .dataframe tbody tr th {\n",
       "        vertical-align: top;\n",
       "    }\n",
       "\n",
       "    .dataframe thead tr th {\n",
       "        text-align: left;\n",
       "    }\n",
       "\n",
       "    .dataframe thead tr:last-of-type th {\n",
       "        text-align: right;\n",
       "    }\n",
       "</style>\n",
       "<table border=\"1\" class=\"dataframe\">\n",
       "  <thead>\n",
       "    <tr>\n",
       "      <th></th>\n",
       "      <th>Metrik</th>\n",
       "      <th colspan=\"3\" halign=\"left\">minADE_5 [m]</th>\n",
       "      <th colspan=\"2\" halign=\"left\">SDRGE [%]</th>\n",
       "    </tr>\n",
       "    <tr>\n",
       "      <th></th>\n",
       "      <th>Geschwindigkeitsbereich</th>\n",
       "      <th>slow</th>\n",
       "      <th>middle</th>\n",
       "      <th>fast</th>\n",
       "      <th>middle -&gt;slow</th>\n",
       "      <th>middle -&gt;fast</th>\n",
       "    </tr>\n",
       "    <tr>\n",
       "      <th>Model</th>\n",
       "      <th>Training</th>\n",
       "      <th></th>\n",
       "      <th></th>\n",
       "      <th></th>\n",
       "      <th></th>\n",
       "      <th></th>\n",
       "    </tr>\n",
       "  </thead>\n",
       "  <tbody>\n",
       "    <tr>\n",
       "      <th rowspan=\"4\" valign=\"top\">Trajectron++</th>\n",
       "      <th>nuScenes_Queenstown</th>\n",
       "      <td>1.50</td>\n",
       "      <td>1.32</td>\n",
       "      <td>1.66</td>\n",
       "      <td>13.64</td>\n",
       "      <td>25.76</td>\n",
       "    </tr>\n",
       "    <tr>\n",
       "      <th>nuScenes_Onenorth</th>\n",
       "      <td>1.33</td>\n",
       "      <td>1.28</td>\n",
       "      <td>2.14</td>\n",
       "      <td>3.91</td>\n",
       "      <td>67.19</td>\n",
       "    </tr>\n",
       "    <tr>\n",
       "      <th>nuScenes_Boston</th>\n",
       "      <td>0.80</td>\n",
       "      <td>1.28</td>\n",
       "      <td>1.68</td>\n",
       "      <td>-37.50</td>\n",
       "      <td>31.25</td>\n",
       "    </tr>\n",
       "    <tr>\n",
       "      <th>lyft_level_5</th>\n",
       "      <td>1.23</td>\n",
       "      <td>1.21</td>\n",
       "      <td>1.62</td>\n",
       "      <td>1.65</td>\n",
       "      <td>33.88</td>\n",
       "    </tr>\n",
       "    <tr>\n",
       "      <th rowspan=\"4\" valign=\"top\">MANTRA</th>\n",
       "      <th>nuScenes_Queenstown</th>\n",
       "      <td>1.61</td>\n",
       "      <td>1.20</td>\n",
       "      <td>1.68</td>\n",
       "      <td>34.17</td>\n",
       "      <td>40.00</td>\n",
       "    </tr>\n",
       "    <tr>\n",
       "      <th>nuScenes_Onenorth</th>\n",
       "      <td>1.34</td>\n",
       "      <td>1.19</td>\n",
       "      <td>2.10</td>\n",
       "      <td>12.61</td>\n",
       "      <td>76.47</td>\n",
       "    </tr>\n",
       "    <tr>\n",
       "      <th>nuScenes_Boston</th>\n",
       "      <td>0.86</td>\n",
       "      <td>1.08</td>\n",
       "      <td>1.59</td>\n",
       "      <td>-20.37</td>\n",
       "      <td>47.22</td>\n",
       "    </tr>\n",
       "    <tr>\n",
       "      <th>lyft_level_5</th>\n",
       "      <td>1.30</td>\n",
       "      <td>1.20</td>\n",
       "      <td>2.46</td>\n",
       "      <td>8.33</td>\n",
       "      <td>105.00</td>\n",
       "    </tr>\n",
       "  </tbody>\n",
       "</table>\n",
       "</div>"
      ],
      "text/plain": [
       "Metrik                           minADE_5 [m]                  SDRGE [%]  \\\n",
       "Geschwindigkeitsbereich                  slow middle  fast middle ->slow   \n",
       "Model        Training                                                      \n",
       "Trajectron++ nuScenes_Queenstown         1.50   1.32  1.66         13.64   \n",
       "             nuScenes_Onenorth           1.33   1.28  2.14          3.91   \n",
       "             nuScenes_Boston             0.80   1.28  1.68        -37.50   \n",
       "             lyft_level_5                1.23   1.21  1.62          1.65   \n",
       "MANTRA       nuScenes_Queenstown         1.61   1.20  1.68         34.17   \n",
       "             nuScenes_Onenorth           1.34   1.19  2.10         12.61   \n",
       "             nuScenes_Boston             0.86   1.08  1.59        -20.37   \n",
       "             lyft_level_5                1.30   1.20  2.46          8.33   \n",
       "\n",
       "Metrik                                          \n",
       "Geschwindigkeitsbereich          middle ->fast  \n",
       "Model        Training                           \n",
       "Trajectron++ nuScenes_Queenstown         25.76  \n",
       "             nuScenes_Onenorth           67.19  \n",
       "             nuScenes_Boston             31.25  \n",
       "             lyft_level_5                33.88  \n",
       "MANTRA       nuScenes_Queenstown         40.00  \n",
       "             nuScenes_Onenorth           76.47  \n",
       "             nuScenes_Boston             47.22  \n",
       "             lyft_level_5               105.00  "
      ]
     },
     "execution_count": 8,
     "metadata": {},
     "output_type": "execute_result"
    }
   ],
   "source": [
    "results_Trajectron = load_results_dict(path_Trajectron)\n",
    "results_MANTRA = load_results_dict(path_MANTRA)\n",
    "\n",
    "df_Trajectron = speed_zone_dict2df(results_Trajectron)\n",
    "df_MANTRA = speed_zone_dict2df(results_MANTRA)\n",
    "\n",
    "df = pd.concat([df_Trajectron,df_MANTRA], axis=0)\n",
    "df.index = pd.MultiIndex.from_product([['Trajectron++', 'MANTRA'], df_MANTRA.index], names=['Model', 'Training'])\n",
    "df"
   ]
  },
  {
   "cell_type": "code",
   "execution_count": 9,
   "id": "d065a081",
   "metadata": {},
   "outputs": [],
   "source": [
    "# CREATE EXCEL \n",
    "\n",
    "\n",
    "# metric = \"SDRGE [%]\"\n",
    "# mean = df[metric].mean(axis=0)\n",
    "# std = df[metric].std(axis=0)\n",
    "# df_excel = pd.concat([mean, std], axis=1)\n",
    "# df_excel.columns = ['mean', 'std']\n",
    "# rename_df(df_excel).to_excel('../excel/Geschwindigkeitsbereiche.xlsx')\n",
    "# rename_df(df).to_excel('../excel/Geschwindigkeitsbereiche_minADE.xlsx')"
   ]
  },
  {
   "cell_type": "code",
   "execution_count": 10,
   "id": "d7e0d67d",
   "metadata": {},
   "outputs": [],
   "source": [
    "figsize = (15, 10)\n",
    "fontsize = 15"
   ]
  },
  {
   "cell_type": "code",
   "execution_count": 11,
   "id": "f7605411",
   "metadata": {},
   "outputs": [
    {
     "data": {
      "image/png": "[encoded data removed]",
      "text/plain": [
       "<Figure size 1080x720 with 2 Axes>"
      ]
     },
     "metadata": {
      "needs_background": "light"
     },
     "output_type": "display_data"
    }
   ],
   "source": [
    "metrics = df.columns.get_level_values('Metrik').unique()\n",
    "fig, ax = plt.subplots(len(metrics), figsize=figsize)\n",
    "\n",
    "for i, metric in enumerate(metrics):\n",
    "    x=df[metric].columns\n",
    "    height=df[metric].mean(axis=0)\n",
    "    yerr=df[metric].std(axis=0)\n",
    "    ax[i].bar(x=x, height=height, yerr=yerr)\n",
    "    ax[i].set_ylabel(metric, fontsize=fontsize)\n",
    "    ax[i].tick_params(axis='both', labelsize=fontsize)\n",
    "plt.tight_layout()"
   ]
  },
  {
   "cell_type": "markdown",
   "id": "cb83366f",
   "metadata": {},
   "source": [
    "# 4.2 Daten-Idiosynchrasie"
   ]
  },
  {
   "cell_type": "markdown",
   "id": "5b146480",
   "metadata": {},
   "source": [
    "### 4.2.1 Datenanalyse"
   ]
  },
  {
   "cell_type": "code",
   "execution_count": 13,
   "id": "06d11005",
   "metadata": {},
   "outputs": [
    {
     "name": "stderr",
     "output_type": "stream",
     "text": [
      "0it [00:00, ?it/s]\n"
     ]
    },
    {
     "ename": "KeyError",
     "evalue": "'Bewegungsart'",
     "output_type": "error",
     "traceback": [
      "\u001b[0;31m---------------------------------------------------------------------------\u001b[0m",
      "\u001b[0;31mKeyError\u001b[0m                                  Traceback (most recent call last)",
      "\u001b[0;32m~/venv/envs/trajectron++_env/lib/python3.8/site-packages/pandas/core/indexes/base.py\u001b[0m in \u001b[0;36mget_loc\u001b[0;34m(self, key, method, tolerance)\u001b[0m\n\u001b[1;32m   3079\u001b[0m             \u001b[0;32mtry\u001b[0m\u001b[0;34m:\u001b[0m\u001b[0;34m\u001b[0m\u001b[0;34m\u001b[0m\u001b[0m\n\u001b[0;32m-> 3080\u001b[0;31m                 \u001b[0;32mreturn\u001b[0m \u001b[0mself\u001b[0m\u001b[0;34m.\u001b[0m\u001b[0m_engine\u001b[0m\u001b[0;34m.\u001b[0m\u001b[0mget_loc\u001b[0m\u001b[0;34m(\u001b[0m\u001b[0mcasted_key\u001b[0m\u001b[0;34m)\u001b[0m\u001b[0;34m\u001b[0m\u001b[0;34m\u001b[0m\u001b[0m\n\u001b[0m\u001b[1;32m   3081\u001b[0m             \u001b[0;32mexcept\u001b[0m \u001b[0mKeyError\u001b[0m \u001b[0;32mas\u001b[0m \u001b[0merr\u001b[0m\u001b[0;34m:\u001b[0m\u001b[0;34m\u001b[0m\u001b[0;34m\u001b[0m\u001b[0m\n",
      "\u001b[0;32mpandas/_libs/index.pyx\u001b[0m in \u001b[0;36mpandas._libs.index.IndexEngine.get_loc\u001b[0;34m()\u001b[0m\n",
      "\u001b[0;32mpandas/_libs/index.pyx\u001b[0m in \u001b[0;36mpandas._libs.index.IndexEngine.get_loc\u001b[0;34m()\u001b[0m\n",
      "\u001b[0;32mpandas/_libs/hashtable_class_helper.pxi\u001b[0m in \u001b[0;36mpandas._libs.hashtable.PyObjectHashTable.get_item\u001b[0;34m()\u001b[0m\n",
      "\u001b[0;32mpandas/_libs/hashtable_class_helper.pxi\u001b[0m in \u001b[0;36mpandas._libs.hashtable.PyObjectHashTable.get_item\u001b[0;34m()\u001b[0m\n",
      "\u001b[0;31mKeyError\u001b[0m: 'Bewegungsart'",
      "\nThe above exception was the direct cause of the following exception:\n",
      "\u001b[0;31mKeyError\u001b[0m                                  Traceback (most recent call last)",
      "\u001b[0;32m<ipython-input-13-7deb1239e927>\u001b[0m in \u001b[0;36m<module>\u001b[0;34m\u001b[0m\n\u001b[1;32m     34\u001b[0m     \u001b[0mtrain\u001b[0m \u001b[0;34m=\u001b[0m \u001b[0;32mTrue\u001b[0m \u001b[0;32mif\u001b[0m \u001b[0mdata_dir\u001b[0m\u001b[0;34m==\u001b[0m\u001b[0;34m'lyft_level_5_middle'\u001b[0m \u001b[0;32melse\u001b[0m \u001b[0;32mFalse\u001b[0m\u001b[0;34m\u001b[0m\u001b[0;34m\u001b[0m\u001b[0m\n\u001b[1;32m     35\u001b[0m     \u001b[0menv\u001b[0m \u001b[0;34m=\u001b[0m \u001b[0mload_domain_env\u001b[0m\u001b[0;34m(\u001b[0m\u001b[0margs\u001b[0m\u001b[0;34m,\u001b[0m \u001b[0mhyperparams\u001b[0m\u001b[0;34m,\u001b[0m \u001b[0mdata_dir\u001b[0m\u001b[0;34m,\u001b[0m \u001b[0mtrain\u001b[0m\u001b[0;34m=\u001b[0m\u001b[0mtrain\u001b[0m\u001b[0;34m,\u001b[0m \u001b[0mspeed\u001b[0m\u001b[0;34m=\u001b[0m\u001b[0;34m''\u001b[0m\u001b[0;34m)\u001b[0m\u001b[0;34m\u001b[0m\u001b[0;34m\u001b[0m\u001b[0m\n\u001b[0;32m---> 36\u001b[0;31m     \u001b[0mdf_env\u001b[0m \u001b[0;34m=\u001b[0m \u001b[0menv_stats\u001b[0m\u001b[0;34m(\u001b[0m\u001b[0menv\u001b[0m\u001b[0;34m)\u001b[0m\u001b[0;34m\u001b[0m\u001b[0;34m\u001b[0m\u001b[0m\n\u001b[0m\u001b[1;32m     37\u001b[0m     \u001b[0mdf_per_env_list\u001b[0m\u001b[0;34m.\u001b[0m\u001b[0mappend\u001b[0m\u001b[0;34m(\u001b[0m\u001b[0mdf_env\u001b[0m\u001b[0;34m)\u001b[0m\u001b[0;34m\u001b[0m\u001b[0;34m\u001b[0m\u001b[0m\n\u001b[1;32m     38\u001b[0m \u001b[0mdf\u001b[0m \u001b[0;34m=\u001b[0m \u001b[0mpd\u001b[0m\u001b[0;34m.\u001b[0m\u001b[0mconcat\u001b[0m\u001b[0;34m(\u001b[0m\u001b[0mdf_per_env_list\u001b[0m\u001b[0;34m,\u001b[0m \u001b[0maxis\u001b[0m\u001b[0;34m=\u001b[0m\u001b[0;36m0\u001b[0m\u001b[0;34m)\u001b[0m\u001b[0;34m\u001b[0m\u001b[0;34m\u001b[0m\u001b[0m\n",
      "\u001b[0;32m~/lrz/pred_comp/experiments/Trajectron/notebooks/../data_analysis/scene_analysis.py\u001b[0m in \u001b[0;36menv_stats\u001b[0;34m(env)\u001b[0m\n\u001b[1;32m    517\u001b[0m     \u001b[0mdf_rel\u001b[0m \u001b[0;34m=\u001b[0m \u001b[0mdeepcopy\u001b[0m\u001b[0;34m(\u001b[0m\u001b[0mdf_abs\u001b[0m\u001b[0;34m)\u001b[0m\u001b[0;34m\u001b[0m\u001b[0;34m\u001b[0m\u001b[0m\n\u001b[1;32m    518\u001b[0m \u001b[0;34m\u001b[0m\u001b[0m\n\u001b[0;32m--> 519\u001b[0;31m     \u001b[0mtotal\u001b[0m \u001b[0;34m=\u001b[0m \u001b[0mdf_abs\u001b[0m\u001b[0;34m[\u001b[0m\u001b[0;34m\"Bewegungsart\"\u001b[0m\u001b[0;34m]\u001b[0m\u001b[0;34m.\u001b[0m\u001b[0msum\u001b[0m\u001b[0;34m(\u001b[0m\u001b[0maxis\u001b[0m\u001b[0;34m=\u001b[0m\u001b[0;36m1\u001b[0m\u001b[0;34m)\u001b[0m\u001b[0;34m.\u001b[0m\u001b[0mvalues\u001b[0m\u001b[0;34m.\u001b[0m\u001b[0mitem\u001b[0m\u001b[0;34m(\u001b[0m\u001b[0;34m)\u001b[0m\u001b[0;34m\u001b[0m\u001b[0;34m\u001b[0m\u001b[0m\n\u001b[0m\u001b[1;32m    520\u001b[0m     \u001b[0mmove\u001b[0m \u001b[0;34m=\u001b[0m \u001b[0mdf_abs\u001b[0m\u001b[0;34m[\u001b[0m\u001b[0;34m(\u001b[0m\u001b[0;34m\"Bewegungsart\"\u001b[0m\u001b[0;34m,\u001b[0m \u001b[0;34m\"move\"\u001b[0m\u001b[0;34m)\u001b[0m\u001b[0;34m]\u001b[0m\u001b[0;34m.\u001b[0m\u001b[0mvalues\u001b[0m\u001b[0;34m.\u001b[0m\u001b[0mitem\u001b[0m\u001b[0;34m(\u001b[0m\u001b[0;34m)\u001b[0m\u001b[0;34m\u001b[0m\u001b[0;34m\u001b[0m\u001b[0m\n\u001b[1;32m    521\u001b[0m \u001b[0;34m\u001b[0m\u001b[0m\n",
      "\u001b[0;32m~/venv/envs/trajectron++_env/lib/python3.8/site-packages/pandas/core/frame.py\u001b[0m in \u001b[0;36m__getitem__\u001b[0;34m(self, key)\u001b[0m\n\u001b[1;32m   3022\u001b[0m             \u001b[0;32mif\u001b[0m \u001b[0mself\u001b[0m\u001b[0;34m.\u001b[0m\u001b[0mcolumns\u001b[0m\u001b[0;34m.\u001b[0m\u001b[0mnlevels\u001b[0m \u001b[0;34m>\u001b[0m \u001b[0;36m1\u001b[0m\u001b[0;34m:\u001b[0m\u001b[0;34m\u001b[0m\u001b[0;34m\u001b[0m\u001b[0m\n\u001b[1;32m   3023\u001b[0m                 \u001b[0;32mreturn\u001b[0m \u001b[0mself\u001b[0m\u001b[0;34m.\u001b[0m\u001b[0m_getitem_multilevel\u001b[0m\u001b[0;34m(\u001b[0m\u001b[0mkey\u001b[0m\u001b[0;34m)\u001b[0m\u001b[0;34m\u001b[0m\u001b[0;34m\u001b[0m\u001b[0m\n\u001b[0;32m-> 3024\u001b[0;31m             \u001b[0mindexer\u001b[0m \u001b[0;34m=\u001b[0m \u001b[0mself\u001b[0m\u001b[0;34m.\u001b[0m\u001b[0mcolumns\u001b[0m\u001b[0;34m.\u001b[0m\u001b[0mget_loc\u001b[0m\u001b[0;34m(\u001b[0m\u001b[0mkey\u001b[0m\u001b[0;34m)\u001b[0m\u001b[0;34m\u001b[0m\u001b[0;34m\u001b[0m\u001b[0m\n\u001b[0m\u001b[1;32m   3025\u001b[0m             \u001b[0;32mif\u001b[0m \u001b[0mis_integer\u001b[0m\u001b[0;34m(\u001b[0m\u001b[0mindexer\u001b[0m\u001b[0;34m)\u001b[0m\u001b[0;34m:\u001b[0m\u001b[0;34m\u001b[0m\u001b[0;34m\u001b[0m\u001b[0m\n\u001b[1;32m   3026\u001b[0m                 \u001b[0mindexer\u001b[0m \u001b[0;34m=\u001b[0m \u001b[0;34m[\u001b[0m\u001b[0mindexer\u001b[0m\u001b[0;34m]\u001b[0m\u001b[0;34m\u001b[0m\u001b[0;34m\u001b[0m\u001b[0m\n",
      "\u001b[0;32m~/venv/envs/trajectron++_env/lib/python3.8/site-packages/pandas/core/indexes/base.py\u001b[0m in \u001b[0;36mget_loc\u001b[0;34m(self, key, method, tolerance)\u001b[0m\n\u001b[1;32m   3080\u001b[0m                 \u001b[0;32mreturn\u001b[0m \u001b[0mself\u001b[0m\u001b[0;34m.\u001b[0m\u001b[0m_engine\u001b[0m\u001b[0;34m.\u001b[0m\u001b[0mget_loc\u001b[0m\u001b[0;34m(\u001b[0m\u001b[0mcasted_key\u001b[0m\u001b[0;34m)\u001b[0m\u001b[0;34m\u001b[0m\u001b[0;34m\u001b[0m\u001b[0m\n\u001b[1;32m   3081\u001b[0m             \u001b[0;32mexcept\u001b[0m \u001b[0mKeyError\u001b[0m \u001b[0;32mas\u001b[0m \u001b[0merr\u001b[0m\u001b[0;34m:\u001b[0m\u001b[0;34m\u001b[0m\u001b[0;34m\u001b[0m\u001b[0m\n\u001b[0;32m-> 3082\u001b[0;31m                 \u001b[0;32mraise\u001b[0m \u001b[0mKeyError\u001b[0m\u001b[0;34m(\u001b[0m\u001b[0mkey\u001b[0m\u001b[0;34m)\u001b[0m \u001b[0;32mfrom\u001b[0m \u001b[0merr\u001b[0m\u001b[0;34m\u001b[0m\u001b[0;34m\u001b[0m\u001b[0m\n\u001b[0m\u001b[1;32m   3083\u001b[0m \u001b[0;34m\u001b[0m\u001b[0m\n\u001b[1;32m   3084\u001b[0m         \u001b[0;32mif\u001b[0m \u001b[0mtolerance\u001b[0m \u001b[0;32mis\u001b[0m \u001b[0;32mnot\u001b[0m \u001b[0;32mNone\u001b[0m\u001b[0;34m:\u001b[0m\u001b[0;34m\u001b[0m\u001b[0;34m\u001b[0m\u001b[0m\n",
      "\u001b[0;31mKeyError\u001b[0m: 'Bewegungsart'"
     ]
    }
   ],
   "source": [
    "class Arguments():\n",
    "    pass\n",
    "args = Arguments()\n",
    "args.node_type = 'VEHICLE'\n",
    "args.max_hl = 4\n",
    "args.override_attention_radius = []\n",
    "args.scene_freq_mult_train = False\n",
    "args.min_scene_interaction_density = 0\n",
    "args.conf = \"../models/original_config/robot/config.json\"\n",
    "\n",
    "#_, hyperparams = load_model(\"robot/openDD\")\n",
    "with open(args.conf, \"r\", encoding=\"utf-8\") as conf_json:\n",
    "    hyperparams = json.load(conf_json)\n",
    "idx = pd.MultiIndex.from_tuples([('slow', 'nuScenes_Queenstown'), \n",
    "                                ('middle', 'nuScenes_Queenstown'),\n",
    "                                ('fast', 'nuScenes_Queenstown'),\n",
    "                               ('slow', 'nuScenes_Onenorth'), \n",
    "                               ('middle', 'nuScenes_Onenorth'),\n",
    "                               ('fast', 'nuScenes_Onenorth'),\n",
    "                               ('slow', 'nuScenes_Boston'), \n",
    "                               ('middle', 'nuScenes_Boston'),\n",
    "                               ('fast', 'nuScenes_Boston'),\n",
    "                               ('slow', 'lyft_level_5'), \n",
    "                               ('middle', 'lyft_level_5'),\n",
    "                               ('fast', 'lyft_level_5'),\n",
    "                               ('special', 'KITTI_fast'),\n",
    "                               ('special', 'openDD')\n",
    "                              ],\n",
    "                              names=['speed_zone', 'location'])\n",
    "\n",
    "df_per_env_list = list()\n",
    "for speed_zone, location in idx:\n",
    "    data_dir = location + ('' if speed_zone=='special' else ( '_' + speed_zone))\n",
    "    train = True if data_dir=='lyft_level_5_middle' else False\n",
    "    env = load_domain_env(args, hyperparams, data_dir, train=train, speed='')\n",
    "    df_env = env_stats(env)\n",
    "    df_per_env_list.append(df_env)\n",
    "df = pd.concat(df_per_env_list, axis=0)\n",
    "df = df.astype(int)\n",
    "df.index = idx\n",
    "\n",
    "df_domains = df.loc[['middle', 'special']]\n",
    "df_domains.reset_index(level=[0], drop=True, inplace=True)\n",
    "\n",
    "speeds = df.index.get_level_values('speed_zone').unique()\n",
    "df_speed_zones = pd.concat([df.loc[speed].mean().to_frame().T for speed in speeds if speed != 'special'], axis=0)\n",
    "df_speed_zones.index = [speed for speed in speeds if speed != 'special']\n",
    "df_speed_zones = df_speed_zones.astype(int)"
   ]
  },
  {
   "cell_type": "code",
   "execution_count": null,
   "id": "425f69ea",
   "metadata": {},
   "outputs": [],
   "source": [
    "# TO EXCEL \n",
    "\n",
    "\n",
    "# rename_df(df_speed_zones).to_excel('../excel/Datenanalyse_Geschwindigkeitsbereich.xlsx')\n",
    "# rename_df(df_domains).to_excel('../excel/Datenanalyse_Domain.xlsx')"
   ]
  },
  {
   "cell_type": "markdown",
   "id": "b2ebc5c6",
   "metadata": {},
   "source": [
    "### Zusammensetzung nach Ort"
   ]
  },
  {
   "cell_type": "code",
   "execution_count": null,
   "id": "8ee21b5a",
   "metadata": {},
   "outputs": [],
   "source": [
    "figsize=(20,50)\n",
    "fontsize = 25"
   ]
  },
  {
   "cell_type": "code",
   "execution_count": null,
   "id": "72a11121",
   "metadata": {
    "scrolled": false
   },
   "outputs": [],
   "source": [
    "characteristics = df_domains.columns.get_level_values('Fahrcharakteristik').unique()\n",
    "\n",
    "fig, ax = plt.subplots(len(characteristics), figsize=figsize)\n",
    "\n",
    "for i, characteristic in enumerate(characteristics):\n",
    "    df_domains[characteristic].plot.barh(stacked=True, ax=ax[i])\n",
    "    ax[i].tick_params(axis='both', labelsize=fontsize)\n",
    "    ax[i].set_xlabel('Domänen', fontsize=fontsize)\n",
    "    ax[i].set_xlabel('Anteil', fontsize=fontsize)\n",
    "    ax[i].legend(loc='center left', bbox_to_anchor=(1, 0.5), fontsize=fontsize)"
   ]
  },
  {
   "cell_type": "markdown",
   "id": "0bdf35c0",
   "metadata": {},
   "source": [
    "### Zusammensetzung nach Geschwindigkeitsbereich"
   ]
  },
  {
   "cell_type": "code",
   "execution_count": null,
   "id": "77e53fb0",
   "metadata": {},
   "outputs": [],
   "source": [
    "figsize=(20,30)\n",
    "fontsize=20"
   ]
  },
  {
   "cell_type": "code",
   "execution_count": null,
   "id": "bb7525e6",
   "metadata": {
    "scrolled": false
   },
   "outputs": [],
   "source": [
    "fig, ax = plt.subplots(len(characteristics), figsize=figsize)\n",
    "for i, characteristic in enumerate(characteristics):\n",
    "    df_speed_zones[characteristic].plot.barh(stacked=True, ax=ax[i])\n",
    "    ax[i].tick_params(axis='both', labelsize=fontsize)\n",
    "    ax[i].set_xlabel('Geschwindigkeitsbereich', fontsize=fontsize)\n",
    "    ax[i].set_xlabel('Anteil', fontsize=fontsize)\n",
    "    ax[i].legend(loc='center left', bbox_to_anchor=(1, 0.5), fontsize=fontsize)"
   ]
  },
  {
   "cell_type": "markdown",
   "id": "33bdc71b",
   "metadata": {},
   "source": [
    "### 4.2.2 Erfassungsschwierigkeit (in distribution)"
   ]
  },
  {
   "cell_type": "code",
   "execution_count": null,
   "id": "77c2bbe8",
   "metadata": {},
   "outputs": [],
   "source": [
    "path_Trajectron = '../results/in_distribution'\n",
    "path_MANTRA = '../../Mantra/results/in_distribution'"
   ]
  },
  {
   "cell_type": "code",
   "execution_count": null,
   "id": "c7490b3a",
   "metadata": {
    "scrolled": true
   },
   "outputs": [],
   "source": [
    "results_Trajectron = load_results_dict(path_Trajectron)\n",
    "results_MANTRA = load_results_dict(path_MANTRA)\n",
    "\n",
    "df_Trajectron = driving_characteristic_dict2df(results_Trajectron)\n",
    "df_MANTRA = driving_characteristic_dict2df(results_MANTRA)\n",
    "\n",
    "df_Trajectron = metric2float(df_Trajectron)\n",
    "df_MANTRA = metric2float(df_MANTRA)\n",
    "\n",
    "df = pd.concat([df_Trajectron, df_MANTRA], axis=1)\n",
    "df.columns = pd.MultiIndex.from_product([('Trajectron++', 'MANTRA'), df_Trajectron.columns], names=['Model', 'Training'])\n",
    "df = df[df != 0]\n",
    "df"
   ]
  },
  {
   "cell_type": "code",
   "execution_count": null,
   "id": "53f3b821",
   "metadata": {},
   "outputs": [],
   "source": [
    "# TO EXCEL\n",
    "\n",
    "\n",
    "# for model in df.columns.get_level_values('Model').unique():\n",
    "#     df.loc[:, (model, 'mean')] = df[model].mean(axis=1, skipna=True).round(2)\n",
    "#     df.loc[:, (model, 'std')] = df[model].std(axis=1, skipna=True).round(2)\n",
    "# rename_df(df).to_excel('../excel/Erfassungsschwierigkeit.xlsx')"
   ]
  },
  {
   "cell_type": "code",
   "execution_count": null,
   "id": "1507dbb4",
   "metadata": {},
   "outputs": [],
   "source": [
    "figsize=(15, 30)\n",
    "fontsize = 20\n",
    "hspace = 0.5"
   ]
  },
  {
   "cell_type": "code",
   "execution_count": null,
   "id": "53f9059c",
   "metadata": {},
   "outputs": [],
   "source": [
    "models = df.columns.get_level_values('Model').unique()\n",
    "characteristics = df.index.get_level_values('Fahrcharakteristik').unique()\n",
    "\n",
    "fig, ax = plt.subplots(len(characteristics), figsize=figsize)\n",
    "plt.subplots_adjust(hspace=hspace)\n",
    "\n",
    "for i, characteristic in enumerate(characteristics):\n",
    "    for j, model in enumerate(models):\n",
    "\n",
    "        categories = df.loc[characteristic].index.tolist()\n",
    "        setoff = 3\n",
    "        yticks_num_spaced = np.arange(1, setoff*len(categories), setoff) + j\n",
    "        yticks_num = range(1, 3*len(categories))\n",
    "        ax[i].barh(y=yticks_num_spaced, \n",
    "                   width=df.loc[characteristic, model].mean(axis=1, skipna=True).tolist(), \n",
    "                   xerr=df.loc[characteristic, model].std(axis=1, skipna=True).tolist(),\n",
    "                   label=model)\n",
    "        if j==0:\n",
    "            yticks_str_spaced = []\n",
    "            for c in range(len(yticks_num) - len(yticks_num_spaced)):\n",
    "                yticks_str_spaced.append('')\n",
    "                if c < len(categories):\n",
    "                    yticks_str_spaced.append('')\n",
    "                    yticks_str_spaced.append(categories[c])\n",
    "                \n",
    "        ax[i].set_yticklabels(yticks_str_spaced, fontsize=fontsize)\n",
    "        ax[i].legend(loc='center left', bbox_to_anchor=(1, 0.5), fontsize=fontsize)\n",
    "        ax[i].set_ylabel(characteristic, fontsize=fontsize)\n",
    "        ax[i].set_xlabel('minADE_5 [m]', fontsize=fontsize)\n"
   ]
  },
  {
   "cell_type": "markdown",
   "id": "3eb6e266",
   "metadata": {},
   "source": [
    "# 4.2.3 Out of Distribution Generalisierung"
   ]
  },
  {
   "cell_type": "markdown",
   "id": "a409259a",
   "metadata": {},
   "source": [
    "### nuScenes_Boston <-> nuScenes Onenorth"
   ]
  },
  {
   "cell_type": "code",
   "execution_count": null,
   "id": "042d0600",
   "metadata": {},
   "outputs": [],
   "source": [
    "path_Trajectron = '../results/out_of_distribution/nuScenes_Boston_nuScenes_Onenorth'\n",
    "path_MANTRA = '../../Mantra/results/out_of_distribution/nuScenes_Boston_nuScenes_Onenorth'"
   ]
  },
  {
   "cell_type": "code",
   "execution_count": null,
   "id": "f9c51a27",
   "metadata": {},
   "outputs": [],
   "source": [
    "df = get_out_of_distribution_df(path_Trajectron, path_MANTRA)\n",
    "df = sort_by(df, \"Evaluation\")\n",
    "df_TDRGE = TDRGE_version(df, relative=True)\n",
    "df_TDGE = TDRGE_version(df, relative=False)\n",
    "df"
   ]
  },
  {
   "cell_type": "code",
   "execution_count": null,
   "id": "9f212d10",
   "metadata": {},
   "outputs": [],
   "source": [
    "# TO EXCEL\n",
    "\n",
    "# df_word = rename_df(sort_by(pd.concat([df, df_TDRGE], axis=1), dataset=\"Evaluation\"))\n",
    "# df_word.to_excel(\"../excel/nuScenes_Boston_nuScenes_Onenorth_ADE_and_TDRGE.xlsx\")\n",
    "# rename_df(df_TDGE).to_excel(\"../excel/nuScenes_Boston_nuScenes_Onenorth_TDGE.xlsx\")\n",
    "# rename_df(df_TDRGE).to_excel(\"../excel/nuScenes_Boston_nuScenes_Onenorth_TDRGE.xlsx\")\n",
    "# rename_df(sort_by(df, \"Evaluation\")).to_excel(\"../excel/nuScenes_Boston_nuScenes_Onenorth_ADE.xlsx\")"
   ]
  },
  {
   "cell_type": "code",
   "execution_count": null,
   "id": "ef241027",
   "metadata": {
    "scrolled": false
   },
   "outputs": [],
   "source": [
    "fig, ax = visualize_out_of_distribution(df)\n",
    "fig.show()"
   ]
  },
  {
   "cell_type": "markdown",
   "id": "e2283b9f",
   "metadata": {},
   "source": [
    "### nuScenes_Boston, lyft_level_5"
   ]
  },
  {
   "cell_type": "code",
   "execution_count": null,
   "id": "f2fc4cda",
   "metadata": {},
   "outputs": [],
   "source": [
    "path_Trajectron = \"../results/out_of_distribution/nuScenes_Boston_lyft_level_5\"\n",
    "path_MANTRA = \"../../Mantra/results/out_of_distribution/nuScenes_Boston_lyft_level_5\""
   ]
  },
  {
   "cell_type": "code",
   "execution_count": null,
   "id": "78dfc2b1",
   "metadata": {},
   "outputs": [],
   "source": [
    "df = get_out_of_distribution_df(path_Trajectron, path_MANTRA)\n",
    "df = sort_by(df, \"Evaluation\")\n",
    "df_TDRGE = TDRGE_version(df, relative=True)\n",
    "df_TDGE = TDRGE_version(df, relative=False)\n",
    "df"
   ]
  },
  {
   "cell_type": "code",
   "execution_count": null,
   "id": "c84e58d7",
   "metadata": {},
   "outputs": [],
   "source": [
    "# TO EXCEL\n",
    "\n",
    "\n",
    "# df_word = rename_df(sort_by(pd.concat([df, df_TDRGE], axis=1), dataset=\"Evaluation\"))\n",
    "# df_word.to_excel(\"../excel/nuScenes_Boston_lyft_level_5_ADE_and_TDRGE.xlsx\")\n",
    "# rename_df(df_TDGE).to_excel(\"../excel/nuScenes_Boston_lyft_level_5_TDGE.xlsx\")\n",
    "# rename_df(df_TDRGE).to_excel(\"../excel/nuScenes_Boston_lyft_level_5_TDRGE.xlsx\")\n",
    "# rename_df(sort_by(df, \"Evaluation\")).to_excel(\"../excel/nuScenes_Boston_lyft_level_5_ADE.xlsx\")"
   ]
  },
  {
   "cell_type": "code",
   "execution_count": null,
   "id": "b16ac54e",
   "metadata": {
    "scrolled": false
   },
   "outputs": [],
   "source": [
    "fig, ax = visualize_out_of_distribution(df)\n",
    "fig.show()"
   ]
  },
  {
   "cell_type": "markdown",
   "id": "13fa6841",
   "metadata": {},
   "source": [
    "### nuScenes_Boston, openDD"
   ]
  },
  {
   "cell_type": "code",
   "execution_count": null,
   "id": "f32d483e",
   "metadata": {},
   "outputs": [],
   "source": [
    "path_Trajectron = \"../results/out_of_distribution/nuScenes_Boston_openDD\"\n",
    "path_MANTRA = \"../../Mantra/results/out_of_distribution/nuScenes_Boston_openDD\""
   ]
  },
  {
   "cell_type": "code",
   "execution_count": null,
   "id": "7dfc0bb9",
   "metadata": {},
   "outputs": [],
   "source": [
    "df = get_out_of_distribution_df(path_Trajectron, path_MANTRA)\n",
    "df = sort_by(df, \"Evaluation\")\n",
    "df_TDRGE = TDRGE_version(df, relative=True)\n",
    "df_TDGE = TDRGE_version(df, relative=False)\n",
    "df"
   ]
  },
  {
   "cell_type": "code",
   "execution_count": null,
   "id": "04eb15c6",
   "metadata": {},
   "outputs": [],
   "source": [
    "# TO EXCEL\n",
    "\n",
    "\n",
    "# df_word = rename_df(sort_by(pd.concat([df, df_TDRGE], axis=1), dataset=\"Evaluation\"))\n",
    "# df_word.to_excel(\"../excel/nuScenes_Boston_openDD_ADE_and_TDRGE.xlsx\")\n",
    "# rename_df(df_TDGE).to_excel(\"../excel/nuScenes_Boston_openDD_TDGE.xlsx\")\n",
    "# rename_df(df_TDRGE).to_excel(\"../excel/nuScenes_Boston_openDD_TDRGE.xlsx\")\n",
    "# rename_df(sort_by(df, \"Evaluation\")).to_excel(\"../excel/nuScenes_Boston_openDD_ADE.xlsx\")"
   ]
  },
  {
   "cell_type": "code",
   "execution_count": null,
   "id": "f8acb5f8",
   "metadata": {
    "scrolled": false
   },
   "outputs": [],
   "source": [
    "fig, ax = visualize_out_of_distribution(df)\n",
    "fig.show()"
   ]
  },
  {
   "cell_type": "markdown",
   "id": "44288b50",
   "metadata": {},
   "source": [
    "# 4.3 Ablationsstudie"
   ]
  },
  {
   "cell_type": "markdown",
   "id": "6afa6fad",
   "metadata": {},
   "source": [
    "### 4.3.1 Trajectron++"
   ]
  },
  {
   "cell_type": "markdown",
   "id": "5137042d",
   "metadata": {},
   "source": [
    "### Karten-Ablation"
   ]
  },
  {
   "cell_type": "code",
   "execution_count": null,
   "id": "bd66252c",
   "metadata": {},
   "outputs": [],
   "source": [
    "path = \"../results/ablation/robot_no_map\""
   ]
  },
  {
   "cell_type": "code",
   "execution_count": null,
   "id": "da092a49",
   "metadata": {},
   "outputs": [],
   "source": [
    "results = load_results_dict(path)\n",
    "df = ablation_dict2df(results)\n",
    "df = metric2float(df)\n",
    "df_T_map_ADE = df\n",
    "df"
   ]
  },
  {
   "cell_type": "code",
   "execution_count": null,
   "id": "ef9c6daa",
   "metadata": {},
   "outputs": [],
   "source": [
    "fig, ax, df_excel_T_map = visualize_ablation(df, \n",
    "                             normal_version='robot',\n",
    "                             ablation_version='robot_no_map', \n",
    "                             figsize=(10, 5), fontsize=15)"
   ]
  },
  {
   "cell_type": "markdown",
   "id": "1ad9c44c",
   "metadata": {},
   "source": [
    "### Robot-Ablation"
   ]
  },
  {
   "cell_type": "code",
   "execution_count": null,
   "id": "0feb82be",
   "metadata": {},
   "outputs": [],
   "source": [
    "path = \"../results/ablation/int_ee_me\""
   ]
  },
  {
   "cell_type": "code",
   "execution_count": null,
   "id": "3ad20151",
   "metadata": {},
   "outputs": [],
   "source": [
    "results = load_results_dict(path)\n",
    "df = ablation_dict2df(results)\n",
    "df = metric2float(df)\n",
    "df_T_robot_ADE = df\n",
    "df"
   ]
  },
  {
   "cell_type": "code",
   "execution_count": null,
   "id": "621b84bf",
   "metadata": {},
   "outputs": [],
   "source": [
    "fig, ax, df_excel_T_robot= visualize_ablation(df, \n",
    "                             normal_version='robot', \n",
    "                             ablation_version='int_ee_me', \n",
    "                             figsize=(10, 5), fontsize=15)"
   ]
  },
  {
   "cell_type": "markdown",
   "id": "f94214db",
   "metadata": {},
   "source": [
    "### Interaktion-Ablation"
   ]
  },
  {
   "cell_type": "code",
   "execution_count": null,
   "id": "25ab3881",
   "metadata": {},
   "outputs": [],
   "source": [
    "path = \"../results/ablation/robot_no_edge\""
   ]
  },
  {
   "cell_type": "code",
   "execution_count": null,
   "id": "a5f23b32",
   "metadata": {},
   "outputs": [],
   "source": [
    "results = load_results_dict(path)\n",
    "df = ablation_dict2df(results)\n",
    "df = metric2float(df)\n",
    "df_T_interaction_ADE = df\n",
    "df"
   ]
  },
  {
   "cell_type": "code",
   "execution_count": null,
   "id": "a7a4901e",
   "metadata": {},
   "outputs": [],
   "source": [
    "fig, ax, df_excel_T_interaction = visualize_ablation(df, \n",
    "                             normal_version='robot',\n",
    "                             ablation_version='robot_no_edge', \n",
    "                             figsize=(10, 5), fontsize=15)"
   ]
  },
  {
   "cell_type": "code",
   "execution_count": null,
   "id": "45e09cd1",
   "metadata": {},
   "outputs": [],
   "source": [
    "# TO EXCEL\n",
    "\n",
    "\n",
    "# df_word = pd.concat([df_T_map_ADE,\n",
    "#                      df_T_robot_ADE,\n",
    "#                      df_T_interaction_ADE])\n",
    "# df_word = df_word.drop_duplicates()\n",
    "# df_word = sort_ablation(df_word)\n",
    "# df_word = rename_df(df_word)\n",
    "# df_word = rename_df_for_word(df_word)\n",
    "# df_word.to_excel(\"../excel/Trajectron_ablation_ADE.xlsx\")\n",
    "\n",
    "\n",
    "# df_excel = pd.concat([df_excel_T_map,\n",
    "#                       df_excel_T_robot,\n",
    "#                       df_excel_T_interaction])\n",
    "# df_excel.index = pd.MultiIndex.from_tuples(zip(\n",
    "#     ['keine Karte', 'keine Karte', \n",
    "#      'kein Robot', 'kein Robot', \n",
    "#      'keine Interaktion', 'keine Interaktion'],\n",
    "#     df_excel.index\n",
    "# ))\n",
    "# rename_df(df_excel).to_excel(\"../excel/Trajectron_ablation.xlsx\")"
   ]
  },
  {
   "cell_type": "markdown",
   "id": "08b7b10c",
   "metadata": {},
   "source": [
    "### 4.3.2 MANTRA"
   ]
  },
  {
   "cell_type": "markdown",
   "id": "7a2fd9ca",
   "metadata": {},
   "source": [
    "### Karten-Ablation"
   ]
  },
  {
   "cell_type": "code",
   "execution_count": null,
   "id": "384736e4",
   "metadata": {},
   "outputs": [],
   "source": [
    "path = \"../../Mantra/results/ablation/no_map\""
   ]
  },
  {
   "cell_type": "code",
   "execution_count": null,
   "id": "3eebc360",
   "metadata": {},
   "outputs": [],
   "source": [
    "results = load_results_dict(path)\n",
    "df = ablation_dict2df(results)\n",
    "df = metric2float(df)\n",
    "df_M_map_ADE = df\n",
    "df"
   ]
  },
  {
   "cell_type": "code",
   "execution_count": null,
   "id": "2fb76267",
   "metadata": {},
   "outputs": [],
   "source": [
    "fig, ax, df_excel_M_no_map = visualize_ablation(df, \n",
    "                             normal_version='MANTRA', \n",
    "                             ablation_version='MANTRA_no_map', \n",
    "                             figsize=(10, 5), fontsize=15)"
   ]
  },
  {
   "cell_type": "markdown",
   "id": "07ddecff",
   "metadata": {},
   "source": [
    "### Online Writing"
   ]
  },
  {
   "cell_type": "code",
   "execution_count": null,
   "id": "ade0aa1f",
   "metadata": {},
   "outputs": [],
   "source": [
    "path = \"../../Mantra/results/ablation/online_writing\""
   ]
  },
  {
   "cell_type": "code",
   "execution_count": null,
   "id": "302626ed",
   "metadata": {},
   "outputs": [],
   "source": [
    "results = load_results_dict(path)\n",
    "df = ablation_dict2df(results)\n",
    "df = metric2float(df)\n",
    "df_M_online_writing_ADE = df\n",
    "df"
   ]
  },
  {
   "cell_type": "code",
   "execution_count": null,
   "id": "d33d662c",
   "metadata": {},
   "outputs": [],
   "source": [
    "fig, ax, df_excel_M_online_writing = visualize_ablation(df, \n",
    "                             normal_version='MANTRA_online_writing', \n",
    "                             ablation_version='MANTRA', \n",
    "                             vorzeichen = 'Verringerung',\n",
    "                             figsize=(10, 5), fontsize=15)"
   ]
  },
  {
   "cell_type": "code",
   "execution_count": null,
   "id": "2ead84a4",
   "metadata": {},
   "outputs": [],
   "source": [
    "# TO EXCEL\n",
    "\n",
    "# df_word = pd.concat([df_M_map_ADE,\n",
    "#                      df_M_online_writing_ADE])\n",
    "# df_word = df_word.drop_duplicates()\n",
    "# df_word = sort_ablation(df_word)\n",
    "# df_word = rename_df(df_word)\n",
    "# df_word = rename_df_for_word(df_word)\n",
    "# df_word\n",
    "# df_word.to_excel(\"../excel/MANTRA_ablation_ADE.xlsx\")\n",
    "\n",
    "\n",
    "# df_excel = pd.concat([df_excel_M_no_map,\n",
    "#                       df_excel_M_online_writing])\n",
    "# df_excel.index = pd.MultiIndex.from_tuples(zip(\n",
    "#     ['keine Karte', 'keine Karte', \n",
    "#      'online writing', 'online writing'],\n",
    "#     df_excel.index\n",
    "# ))\n",
    "\n",
    "# rename_df(df_excel).to_excel(\"../excel/MANTRA_ablation.xlsx\")"
   ]
  },
  {
   "cell_type": "markdown",
   "id": "2c11bf40",
   "metadata": {},
   "source": [
    "# 4.4 Verbesserung der Generalisierung"
   ]
  },
  {
   "cell_type": "markdown",
   "id": "9bcef969",
   "metadata": {},
   "source": [
    "### 4.4.1 Datendiversität auf Mikrolevel (Datenmenge)"
   ]
  },
  {
   "cell_type": "markdown",
   "id": "719d229a",
   "metadata": {},
   "source": [
    "#### Trajectron++"
   ]
  },
  {
   "cell_type": "code",
   "execution_count": null,
   "id": "b3b4c171",
   "metadata": {},
   "outputs": [],
   "source": [
    "path = \"../results/Verbesserung/large_scale\""
   ]
  },
  {
   "cell_type": "code",
   "execution_count": null,
   "id": "d47a148d",
   "metadata": {},
   "outputs": [],
   "source": [
    "results = load_results_dict(path)\n",
    "df = Verbesserung_dict2df(results)\n",
    "df = metric2float(df)\n",
    "df_T_large_scale_ADE = df\n",
    "df"
   ]
  },
  {
   "cell_type": "code",
   "execution_count": null,
   "id": "c2ed23fd",
   "metadata": {},
   "outputs": [],
   "source": [
    "fig, ax, df_excel_T_ls = visualize_ablation(df, \n",
    "                             normal_version='robot_large_scale',\n",
    "                             ablation_version='robot', \n",
    "                             vorzeichen='Verringerung',\n",
    "                             figsize=(10, 5), fontsize=15)"
   ]
  },
  {
   "cell_type": "markdown",
   "id": "71ca9b70",
   "metadata": {},
   "source": [
    "#### MANTRA"
   ]
  },
  {
   "cell_type": "code",
   "execution_count": null,
   "id": "aedff0ac",
   "metadata": {},
   "outputs": [],
   "source": [
    "path = \"../../Mantra/results/Verbesserung/large_scale\""
   ]
  },
  {
   "cell_type": "code",
   "execution_count": null,
   "id": "7f061057",
   "metadata": {},
   "outputs": [],
   "source": [
    "results = load_results_dict(path)\n",
    "df = Verbesserung_dict2df(results)\n",
    "df = metric2float(df)\n",
    "df_M_large_scale_ADE = df\n",
    "df"
   ]
  },
  {
   "cell_type": "code",
   "execution_count": null,
   "id": "f1607916",
   "metadata": {},
   "outputs": [],
   "source": [
    "fig, ax,df_excel_M_ls = visualize_ablation(df, \n",
    "                             normal_version='MANTRA_large_scale',\n",
    "                             ablation_version='MANTRA', \n",
    "                             vorzeichen='Verringerung',\n",
    "                             figsize=(10, 5), fontsize=15)"
   ]
  },
  {
   "cell_type": "markdown",
   "id": "62002023",
   "metadata": {},
   "source": [
    "### 4.4.2 Datendiversität auf Makrolevel (Domänen Kombination)"
   ]
  },
  {
   "cell_type": "markdown",
   "id": "4793ac66",
   "metadata": {},
   "source": [
    "#### Trajectron++"
   ]
  },
  {
   "cell_type": "code",
   "execution_count": null,
   "id": "fc33f1f1",
   "metadata": {},
   "outputs": [],
   "source": [
    "path = \"../results/Verbesserung/domain_mix\""
   ]
  },
  {
   "cell_type": "code",
   "execution_count": null,
   "id": "af701229",
   "metadata": {},
   "outputs": [],
   "source": [
    "results = load_results_dict(path)\n",
    "df = Verbesserung_dict2df(results)\n",
    "df = metric2float(df)\n",
    "df_T_domain_mix_ADE = df\n",
    "df"
   ]
  },
  {
   "cell_type": "code",
   "execution_count": null,
   "id": "fc4a7479",
   "metadata": {},
   "outputs": [],
   "source": [
    "fig, ax, df_excel_T_dk = visualize_ablation(df, \n",
    "                             normal_version='robot_domain_mix',\n",
    "                             ablation_version='robot', \n",
    "                             vorzeichen='Verringerung',\n",
    "                             figsize=(10, 5), fontsize=15)"
   ]
  },
  {
   "cell_type": "markdown",
   "id": "91f21a1d",
   "metadata": {},
   "source": [
    "#### MANTRA"
   ]
  },
  {
   "cell_type": "code",
   "execution_count": null,
   "id": "8ef3595a",
   "metadata": {},
   "outputs": [],
   "source": [
    "path = \"../../Mantra/results/Verbesserung/domain_mix\""
   ]
  },
  {
   "cell_type": "code",
   "execution_count": null,
   "id": "e73a5dbd",
   "metadata": {},
   "outputs": [],
   "source": [
    "results = load_results_dict(path)\n",
    "df = Verbesserung_dict2df(results)\n",
    "df = metric2float(df)\n",
    "df_M_domain_mix_ADE = df\n",
    "df"
   ]
  },
  {
   "cell_type": "code",
   "execution_count": null,
   "id": "4b99db5e",
   "metadata": {},
   "outputs": [],
   "source": [
    "fig, ax,df_excel_M_dk = visualize_ablation(df, \n",
    "                             normal_version='MANTRA_domain_mix',\n",
    "                             ablation_version='MANTRA', \n",
    "                             vorzeichen='Verringerung',\n",
    "                             figsize=(10, 5), fontsize=15)"
   ]
  },
  {
   "cell_type": "markdown",
   "id": "9ab1ecfb",
   "metadata": {},
   "source": [
    "### 4.4.3 Manipulation der Datenproportionen"
   ]
  },
  {
   "cell_type": "code",
   "execution_count": null,
   "id": "09cf8029",
   "metadata": {},
   "outputs": [],
   "source": [
    "path = \"../results/Verbesserung/freq_multiplier\""
   ]
  },
  {
   "cell_type": "code",
   "execution_count": null,
   "id": "2473a134",
   "metadata": {},
   "outputs": [],
   "source": [
    "results = load_results_dict(path)\n",
    "df = Verbesserung_dict2df(results)\n",
    "df = metric2float(df)\n",
    "df_T_freq_multiplier_ADE = df\n",
    "df"
   ]
  },
  {
   "cell_type": "code",
   "execution_count": null,
   "id": "3bb40c26",
   "metadata": {},
   "outputs": [],
   "source": [
    "fig, ax, df_excel_T_mp = visualize_ablation(df, \n",
    "                             normal_version='robot_freq_multiplier',\n",
    "                             ablation_version='robot', \n",
    "                             vorzeichen='Verringerung',\n",
    "                             figsize=(10, 5), fontsize=15)"
   ]
  },
  {
   "cell_type": "code",
   "execution_count": null,
   "id": "9be02331",
   "metadata": {},
   "outputs": [],
   "source": [
    "# TO EXCEL\n",
    "\n",
    "\n",
    "# df_excel_T = pd.concat([df_excel_T_ls,\n",
    "#                         df_excel_T_dk,\n",
    "#                         df_excel_T_mp])\n",
    "# df_excel_T.index = pd.MultiIndex.from_tuples(zip(\n",
    "#     ['Datendiversität Mikroebene', 'Datendiversität Mikroebene', \n",
    "#      'Datendiversität Makroebene', 'Datendiversität Makroebene', \n",
    "#      'Manipulation der Datenproportionen', 'Manipulation der Datenproportionen'],\n",
    "#     df_excel_T.index\n",
    "# ))\n",
    "# rename_df(df_excel_T).to_excel(\"../excel/Trajectron_Verbesserung.xlsx\")\n",
    "\n",
    "\n",
    "\n",
    "\n",
    "# df_excel_M = pd.concat([df_excel_M_ls,\n",
    "#                         df_excel_M_dk])\n",
    "# df_excel_M.index = pd.MultiIndex.from_tuples(zip(\n",
    "#     ['Datendiversität Mikroebene', 'Datendiversität Mikroebene', \n",
    "#      'Datendiversität Makroebene', 'Datendiversität Makroebene'],\n",
    "#     df_excel_M.index\n",
    "# ))\n",
    "# rename_df(df_excel_M).to_excel(\"../excel/MANTRA_Verbesserung.xlsx\")\n",
    "\n",
    "\n",
    "\n",
    "\n",
    "# df_T_domain_mix_ADE = df_T_domain_mix_ADE.reorder_levels([\"Training\", \"Model\"], axis=0)\n",
    "# df_T_domain_mix_ADE = df_T_domain_mix_ADE.drop(index=[\"openDD\"])\n",
    "# df_T_domain_mix_ADE = df_T_domain_mix_ADE.drop(index=[\"nuScenes_Boston\"])\n",
    "# df_T_domain_mix_ADE = rename_df(df_T_domain_mix_ADE)\n",
    "# df_T_domain_mix_ADE = rename_df_for_word(df_T_domain_mix_ADE)\n",
    "\n",
    "# df_word_T = pd.concat([df_T_large_scale_ADE,\n",
    "#                        df_T_freq_multiplier_ADE])\n",
    "# df_word_T = df_word_T.drop_duplicates()\n",
    "# df_word_T = sort_ablation(df_word_T)\n",
    "# df_word_T = rename_df(df_word_T)\n",
    "# df_word_T = rename_df_for_word(df_word_T)\n",
    "# df_word_T = pd.concat([df_word_T, df_T_domain_mix_ADE], axis=0)\n",
    "# df_word_T.to_excel(\"../excel/Trajectron_Verbesserung_ADE.xlsx\")\n",
    "\n",
    "\n",
    "\n",
    "\n",
    "# df_word_M = sort_ablation(df_M_large_scale_ADE)\n",
    "# df_word_M = pd.concat([df_word_M, df_M_domain_mix_ADE])\n",
    "# df_word_M = df_word_M.drop_duplicates()\n",
    "# df_word_M = rename_df(df_word_M)\n",
    "# df_word_M = rename_df_for_word(df_word_M)\n",
    "# df_word_M.to_excel(\"../excel/MANTRA_Verbesserung_ADE.xlsx\")"
   ]
  }
 ],
 "metadata": {
  "kernelspec": {
   "display_name": "Python 3.8 (trajectron++_env)",
   "language": "python",
   "name": "trajectronpp_env"
  },
  "language_info": {
   "codemirror_mode": {
    "name": "ipython",
    "version": 3
   },
   "file_extension": ".py",
   "mimetype": "text/x-python",
   "name": "python",
   "nbconvert_exporter": "python",
   "pygments_lexer": "ipython3",
   "version": "3.8.10"
  }
 },
 "nbformat": 4,
 "nbformat_minor": 5
}
