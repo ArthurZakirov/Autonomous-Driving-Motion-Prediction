{
 "cells": [
  {
   "cell_type": "code",
   "execution_count": 20,
   "id": "52a64d3a",
   "metadata": {},
   "outputs": [],
   "source": [
    "import torch\n",
    "from torch import nn, optim, utils\n",
    "import numpy as np\n",
    "import os\n",
    "import sys\n",
    "import time\n",
    "import dill\n",
    "import json\n",
    "import random\n",
    "import pathlib\n",
    "import warnings\n",
    "from tqdm import tqdm\n",
    "import visualization\n",
    "import evaluation\n",
    "import matplotlib.pyplot as plt\n",
    "from model.trajectron import Trajectron\n",
    "from model.model_registrar import ModelRegistrar\n",
    "from model.model_utils import cyclical_lr\n",
    "from model.dataset import EnvironmentDataset, collate\n",
    "from tensorboardX import SummaryWriter\n",
    "sys.path.append('../experiments/nuScenes')"
   ]
  },
  {
   "cell_type": "code",
   "execution_count": 18,
   "id": "d9d6551c",
   "metadata": {},
   "outputs": [],
   "source": [
    "args_data_dir = '../experiments/processed/Kitti_processed'\n",
    "args_train_data_dict = 'Kitti_test_full.pkl'\n",
    "args_incl_robot_node = True"
   ]
  },
  {
   "cell_type": "code",
   "execution_count": 21,
   "id": "10e32b77",
   "metadata": {},
   "outputs": [],
   "source": [
    "for args_train_data_dict in os.listdir(args_data_dir):\n",
    "    if not ('train' in args_train_data_dict):\n",
    "        continue\n",
    "    train_data_path = os.path.join(args_data_dir, args_train_data_dict)\n",
    "    with open(train_data_path, 'rb') as f:\n",
    "        train_env = dill.load(f, encoding='latin1')"
   ]
  },
  {
   "cell_type": "code",
   "execution_count": 28,
   "id": "e65a1ef6",
   "metadata": {},
   "outputs": [
    {
     "ename": "FileNotFoundError",
     "evalue": "[Errno 2] No such file or directory: '../../../MANTRA-CVPR20-master/maps'",
     "output_type": "error",
     "traceback": [
      "\u001b[0;31m---------------------------------------------------------------------------\u001b[0m",
      "\u001b[0;31mFileNotFoundError\u001b[0m                         Traceback (most recent call last)",
      "\u001b[0;32m<ipython-input-28-97d523aef1dd>\u001b[0m in \u001b[0;36m<module>\u001b[0;34m\u001b[0m\n\u001b[1;32m     19\u001b[0m     \u001b[0;34m'scene_buffer'\u001b[0m\u001b[0;34m:\u001b[0m \u001b[0;36m0\u001b[0m\u001b[0;34m\u001b[0m\u001b[0;34m\u001b[0m\u001b[0m\n\u001b[1;32m     20\u001b[0m }\n\u001b[0;32m---> 21\u001b[0;31m \u001b[0mtraj_dict\u001b[0m\u001b[0;34m,\u001b[0m \u001b[0mmap_dict\u001b[0m \u001b[0;34m=\u001b[0m \u001b[0mKitti2data\u001b[0m\u001b[0;34m(\u001b[0m\u001b[0mtraj_dir\u001b[0m\u001b[0;34m,\u001b[0m \u001b[0mmap_dir\u001b[0m\u001b[0;34m,\u001b[0m \u001b[0mtraj_config\u001b[0m\u001b[0;34m,\u001b[0m \u001b[0mmap_config\u001b[0m\u001b[0;34m)\u001b[0m\u001b[0;34m\u001b[0m\u001b[0;34m\u001b[0m\u001b[0m\n\u001b[0m",
      "\u001b[0;32m~/lrz/pred_comp/Trajectron-plus-plus/trajectron/../experiments/nuScenes/Kitti2data_functions.py\u001b[0m in \u001b[0;36mKitti2data\u001b[0;34m(traj_dir, map_dir, traj_config, map_config)\u001b[0m\n\u001b[1;32m     15\u001b[0m \u001b[0;34m\u001b[0m\u001b[0m\n\u001b[1;32m     16\u001b[0m \u001b[0;32mdef\u001b[0m \u001b[0mKitti2data\u001b[0m\u001b[0;34m(\u001b[0m\u001b[0mtraj_dir\u001b[0m\u001b[0;34m,\u001b[0m \u001b[0mmap_dir\u001b[0m\u001b[0;34m,\u001b[0m \u001b[0mtraj_config\u001b[0m\u001b[0;34m,\u001b[0m \u001b[0mmap_config\u001b[0m\u001b[0;34m)\u001b[0m\u001b[0;34m:\u001b[0m\u001b[0;34m\u001b[0m\u001b[0;34m\u001b[0m\u001b[0m\n\u001b[0;32m---> 17\u001b[0;31m     \u001b[0mmap_names\u001b[0m \u001b[0;34m=\u001b[0m \u001b[0mos\u001b[0m\u001b[0;34m.\u001b[0m\u001b[0mlistdir\u001b[0m\u001b[0;34m(\u001b[0m\u001b[0mmap_dir\u001b[0m\u001b[0;34m)\u001b[0m\u001b[0;34m\u001b[0m\u001b[0;34m\u001b[0m\u001b[0m\n\u001b[0m\u001b[1;32m     18\u001b[0m     \u001b[0mmap_names\u001b[0m\u001b[0;34m.\u001b[0m\u001b[0mpop\u001b[0m\u001b[0;34m(\u001b[0m\u001b[0;34m-\u001b[0m\u001b[0;36m1\u001b[0m\u001b[0;34m)\u001b[0m\u001b[0;34m\u001b[0m\u001b[0;34m\u001b[0m\u001b[0m\n\u001b[1;32m     19\u001b[0m     \u001b[0mprint\u001b[0m\u001b[0;34m(\u001b[0m\u001b[0;34mf'Preprocess {len(map_names)} maps.'\u001b[0m\u001b[0;34m)\u001b[0m\u001b[0;34m\u001b[0m\u001b[0;34m\u001b[0m\u001b[0m\n",
      "\u001b[0;31mFileNotFoundError\u001b[0m: [Errno 2] No such file or directory: '../../../MANTRA-CVPR20-master/maps'"
     ]
    }
   ],
   "source": []
  }
 ],
 "metadata": {
  "kernelspec": {
   "display_name": "Python 3.8 (trajectron++_env)",
   "language": "python",
   "name": "trajectronpp_env"
  },
  "language_info": {
   "codemirror_mode": {
    "name": "ipython",
    "version": 3
   },
   "file_extension": ".py",
   "mimetype": "text/x-python",
   "name": "python",
   "nbconvert_exporter": "python",
   "pygments_lexer": "ipython3",
   "version": "3.8.10"
  }
 },
 "nbformat": 4,
 "nbformat_minor": 5
}
